{
 "cells": [
  {
   "cell_type": "markdown",
   "source": [
    "# ML Pipeline Preparation"
   ],
   "metadata": {}
  },
  {
   "cell_type": "code",
   "execution_count": null,
   "source": [
    "import nltk\r\n",
    "\r\n",
    "nltk.download(['punkt', 'stopwords', 'wordnet'])"
   ],
   "outputs": [],
   "metadata": {}
  },
  {
   "cell_type": "code",
   "execution_count": null,
   "source": [
    "# import libraries\r\n",
    "import pandas as pd\r\n",
    "import numpy as np\r\n",
    "import re\r\n",
    "import joblib\r\n",
    "\r\n",
    "from sqlalchemy import create_engine\r\n",
    "from nltk.corpus import stopwords\r\n",
    "from nltk.stem.wordnet import WordNetLemmatizer\r\n",
    "from nltk.tokenize import word_tokenize\r\n",
    "from sklearn.model_selection import train_test_split\r\n",
    "from sklearn.feature_extraction.text import CountVectorizer, TfidfTransformer\r\n",
    "from sklearn.pipeline import Pipeline, FeatureUnion\r\n",
    "from sklearn.ensemble import RandomForestClassifier\r\n",
    "from sklearn.neighbors import KNeighborsClassifier\r\n",
    "from sklearn.svm import LinearSVC\r\n",
    "from sklearn.multioutput import MultiOutputClassifier\r\n",
    "from sklearn.multiclass import OneVsRestClassifier\r\n",
    "from sklearn.metrics import classification_report\r\n",
    "from sklearn.model_selection import GridSearchCV\r\n",
    "from gensim.models.word2vec import Word2Vec\r\n",
    "from sklearn.ensemble import ExtraTreesClassifier\r\n",
    "from sklearn.base import BaseEstimator, TransformerMixin\r\n",
    "from sklearn.preprocessing import OneHotEncoder, LabelEncoder\r\n",
    "from sklearn.impute import SimpleImputer\r\n",
    "from sklearn.compose import ColumnTransformer\r\n"
   ],
   "outputs": [],
   "metadata": {}
  },
  {
   "cell_type": "markdown",
   "source": [
    "\r\n",
    "Follow the instructions below to help you create your ML pipeline.\r\n",
    "### 1. Import libraries and load data from database.\r\n",
    "- Import Python libraries\r\n",
    "- Load dataset from database with [`read_sql_table`](https://pandas.pydata.org/pandas-docs/stable/generated/pandas.read_sql_table.html)\r\n",
    "- Define feature and target variables X and Y"
   ],
   "metadata": {}
  },
  {
   "cell_type": "code",
   "execution_count": null,
   "source": [
    "# load data from database\r\n",
    "engine = create_engine('sqlite:///../data/processed/DisasterResponse.db')\r\n",
    "df = pd.read_sql(\"SELECT * FROM DisasterResponse\", engine)\r\n",
    "df.head()"
   ],
   "outputs": [],
   "metadata": {}
  },
  {
   "cell_type": "code",
   "execution_count": null,
   "source": [
    "df.genre.value_counts()"
   ],
   "outputs": [],
   "metadata": {}
  },
  {
   "cell_type": "code",
   "execution_count": null,
   "source": [
    "GenreType = pd.CategoricalDtype(categories=[\"news\", \"direct\", \"social\"], ordered=False)\r\n",
    "df.genre = df.genre.astype(GenreType)\r\n",
    "\r\n",
    "df.info()"
   ],
   "outputs": [],
   "metadata": {}
  },
  {
   "cell_type": "code",
   "execution_count": null,
   "source": [
    "df[\"genre_code\"] = df.genre.cat.codes"
   ],
   "outputs": [],
   "metadata": {}
  },
  {
   "cell_type": "code",
   "execution_count": null,
   "source": [
    "X = df[[\"message\", \"genre\", \"genre_code\"]]\r\n",
    "X.head()"
   ],
   "outputs": [],
   "metadata": {}
  },
  {
   "cell_type": "code",
   "execution_count": null,
   "source": [
    "y = df.drop(columns=[\"id\", \"message\", \"genre\", \"original\"])\r\n",
    "# y = df[[\"storm\", \"fire\", \"earthquake\", \"cold\"]]\r\n",
    "y.head()"
   ],
   "outputs": [],
   "metadata": {}
  },
  {
   "cell_type": "markdown",
   "source": [
    "### 2. Write a tokenization function to process your text data"
   ],
   "metadata": {}
  },
  {
   "cell_type": "code",
   "execution_count": null,
   "source": [
    "lemmatizer = WordNetLemmatizer()\r\n",
    "stop_words = stopwords.words(\"english\")\r\n",
    "pattern = re.compile(r\"[^a-zA-Z0-9]\")\r\n",
    "\r\n",
    "def tokenize(text):\r\n",
    "    text = pattern.sub(\" \", text.lower())\r\n",
    "    tokens = word_tokenize(text)\r\n",
    "\r\n",
    "    tokens = [lemmatizer.lemmatize(t).strip() for t in tokens if t not in stop_words]\r\n",
    "\r\n",
    "    return tokens"
   ],
   "outputs": [],
   "metadata": {}
  },
  {
   "cell_type": "markdown",
   "source": [
    "### 3. Build a machine learning pipeline\n",
    "This machine pipeline should take in the `message` column as input and output classification results on the other 36 categories in the dataset. You may find the [MultiOutputClassifier](http://scikit-learn.org/stable/modules/generated/sklearn.multioutput.MultiOutputClassifier.html) helpful for predicting multiple target variables."
   ],
   "metadata": {}
  },
  {
   "cell_type": "code",
   "execution_count": null,
   "source": [
    "class ItemSelector(BaseEstimator, TransformerMixin):\r\n",
    "    def __init__(self, key):\r\n",
    "        self.key = key\r\n",
    "\r\n",
    "    def fit(self, x, y=None):\r\n",
    "        return self\r\n",
    "\r\n",
    "    def transform(self, data_dict):\r\n",
    "        return data_dict[self.key]"
   ],
   "outputs": [],
   "metadata": {}
  },
  {
   "cell_type": "code",
   "execution_count": null,
   "source": [
    "pipeline = Pipeline([\r\n",
    "    (\"selector\", ItemSelector(\"message\")),\r\n",
    "    (\"count\", CountVectorizer(tokenizer=tokenize)),\r\n",
    "    (\"vector\", TfidfTransformer()),\r\n",
    "    (\"clf\", MultiOutputClassifier(LinearSVC(random_state=42)))])\r\n"
   ],
   "outputs": [],
   "metadata": {}
  },
  {
   "cell_type": "markdown",
   "source": [
    "### 4. Train pipeline\n",
    "- Split data into train and test sets\n",
    "- Train pipeline"
   ],
   "metadata": {}
  },
  {
   "cell_type": "code",
   "execution_count": null,
   "source": [
    "X_train, X_test, y_train, y_test = train_test_split(X, y, random_state=42)"
   ],
   "outputs": [],
   "metadata": {}
  },
  {
   "cell_type": "code",
   "execution_count": null,
   "source": [
    "pipeline.fit(X_train, y_train)"
   ],
   "outputs": [],
   "metadata": {}
  },
  {
   "cell_type": "markdown",
   "source": [
    "### 5. Test your model\n",
    "Report the f1 score, precision and recall for each output category of the dataset. You can do this by iterating through the columns and calling sklearn's `classification_report` on each."
   ],
   "metadata": {}
  },
  {
   "cell_type": "code",
   "execution_count": null,
   "source": [
    "y_pred = pipeline.predict(X_test)"
   ],
   "outputs": [],
   "metadata": {}
  },
  {
   "cell_type": "code",
   "execution_count": null,
   "source": [
    "def get_metrics(y_test, y_pred):\r\n",
    "    scores = []\r\n",
    "\r\n",
    "    for i, col in enumerate(y.columns):\r\n",
    "        report = classification_report(y_test.iloc[:, i], y_pred[:, i], output_dict=True, zero_division=0)\r\n",
    "\r\n",
    "        scores.append({ \r\n",
    "            \"category\": col,\r\n",
    "            \"precision_0\": report[\"0\"][\"precision\"],\r\n",
    "            \"recall_0\": report[\"0\"][\"recall\"],\r\n",
    "            \"f1_0\": report[\"0\"][\"f1-score\"],\r\n",
    "            \"support_0\": report[\"0\"][\"support\"],\r\n",
    "            \"precision_1\": report[\"1\"][\"precision\"],\r\n",
    "            \"recall_1\": report[\"1\"][\"recall\"],\r\n",
    "            \"f1_1\": report[\"1\"][\"f1-score\"],\r\n",
    "            \"support_1\": report[\"1\"][\"support\"],\r\n",
    "            \"accuracy\": report[\"accuracy\"],\r\n",
    "            \"precision_macro_avg\": report[\"macro avg\"][\"precision\"],\r\n",
    "            \"recall_macro_avg\": report[\"macro avg\"][\"recall\"],\r\n",
    "            \"f1_macro_avg\": report[\"macro avg\"][\"f1-score\"],\r\n",
    "            \"support_macro_avg\": report[\"macro avg\"][\"support\"],\r\n",
    "            \"precision_weighted_avg\": report[\"weighted avg\"][\"precision\"],\r\n",
    "            \"recall_weighted_avg\": report[\"weighted avg\"][\"recall\"],\r\n",
    "            \"f1_weighted_avg\": report[\"weighted avg\"][\"f1-score\"],\r\n",
    "            \"support_weighted_avg\": report[\"weighted avg\"][\"support\"]\r\n",
    "        })\r\n",
    "\r\n",
    "    return pd.DataFrame.from_records(scores)"
   ],
   "outputs": [],
   "metadata": {}
  },
  {
   "cell_type": "code",
   "execution_count": null,
   "source": [
    "get_metrics(y_test, y_pred).mean()"
   ],
   "outputs": [],
   "metadata": {}
  },
  {
   "cell_type": "markdown",
   "source": [
    "### 6. Improve your model\r\n",
    "Use grid search to find better parameters. "
   ],
   "metadata": {}
  },
  {
   "cell_type": "code",
   "execution_count": null,
   "source": [
    "parameters = {\r\n",
    "    \"clf__estimator\": [\r\n",
    "        RandomForestClassifier(n_jobs=8),\r\n",
    "        LinearSVC(),\r\n",
    "        ExtraTreesClassifier(n_jobs=8)\r\n",
    "    ]\r\n",
    "}\r\n",
    "\r\n",
    "cv = GridSearchCV(pipeline, param_grid=parameters, verbose=10)"
   ],
   "outputs": [],
   "metadata": {}
  },
  {
   "cell_type": "code",
   "execution_count": null,
   "source": [
    "\r\n",
    "cv.fit(X_train, y_train)\r\n",
    "\r\n",
    "print(\"Best Parameters:\", cv.best_params_)"
   ],
   "outputs": [],
   "metadata": {}
  },
  {
   "cell_type": "markdown",
   "source": [
    "### 7. Test your model\n",
    "Show the accuracy, precision, and recall of the tuned model.  \n",
    "\n",
    "Since this project focuses on code quality, process, and  pipelines, there is no minimum performance metric needed to pass. However, make sure to fine tune your models for accuracy, precision and recall to make your project stand out - especially for your portfolio!"
   ],
   "metadata": {}
  },
  {
   "cell_type": "code",
   "execution_count": null,
   "source": [
    "y_pred = cv.predict(X_test)\r\n",
    "\r\n",
    "get_metrics(y_test, y_pred).mean()"
   ],
   "outputs": [],
   "metadata": {}
  },
  {
   "cell_type": "markdown",
   "source": [
    "### 8. Try improving your model further. Here are a few ideas:\n",
    "* try other machine learning algorithms\n",
    "* add other features besides the TF-IDF"
   ],
   "metadata": {}
  },
  {
   "cell_type": "code",
   "execution_count": null,
   "source": [
    "class DataFrameToArrayTransformer(BaseEstimator, TransformerMixin):    \r\n",
    "\r\n",
    "    def fit(self, x, y=None):\r\n",
    "        return self\r\n",
    "\r\n",
    "    def transform(self, X):\r\n",
    "        return X.to_numpy()"
   ],
   "outputs": [],
   "metadata": {}
  },
  {
   "cell_type": "code",
   "execution_count": null,
   "source": [
    "pipeline = Pipeline([\r\n",
    "    (\"features\", ColumnTransformer([\r\n",
    "        (\"genre_category\", OneHotEncoder(dtype=int), [\"genre\"]),\r\n",
    "        (\"text\", Pipeline([\r\n",
    "            (\"count\", CountVectorizer(tokenizer=tokenize)),\r\n",
    "            (\"tfidf\", TfidfTransformer())\r\n",
    "        ]), \"message\")\r\n",
    "    ], remainder=\"drop\")),\r\n",
    "    (\"clf\", MultiOutputClassifier(LinearSVC(random_state=42)))\r\n",
    "])\r\n"
   ],
   "outputs": [],
   "metadata": {}
  },
  {
   "cell_type": "code",
   "execution_count": null,
   "source": [
    "pipeline.fit(X_train, y_train)"
   ],
   "outputs": [],
   "metadata": {}
  },
  {
   "cell_type": "code",
   "execution_count": null,
   "source": [
    "y_pred = pipeline.predict(X_test)"
   ],
   "outputs": [],
   "metadata": {}
  },
  {
   "cell_type": "code",
   "execution_count": null,
   "source": [
    "get_metrics(y_test, y_pred).mean()"
   ],
   "outputs": [],
   "metadata": {}
  },
  {
   "cell_type": "markdown",
   "source": [
    "### 9. Export your model as a pickle file"
   ],
   "metadata": {}
  },
  {
   "cell_type": "code",
   "execution_count": null,
   "source": [
    "joblib.dump(cv.best_estimator_, \"../models/disaster_response_model.pkl\")"
   ],
   "outputs": [],
   "metadata": {}
  },
  {
   "cell_type": "markdown",
   "source": [
    "### 10. Use this notebook to complete `train.py`\n",
    "Use the template file attached in the Resources folder to write a script that runs the steps above to create a database and export a model based on a new dataset specified by the user."
   ],
   "metadata": {}
  }
 ],
 "metadata": {
  "kernelspec": {
   "name": "python3",
   "display_name": "Python 3.9.6 64-bit ('data-science': conda)"
  },
  "language_info": {
   "codemirror_mode": {
    "name": "ipython",
    "version": 3
   },
   "file_extension": ".py",
   "mimetype": "text/x-python",
   "name": "python",
   "nbconvert_exporter": "python",
   "pygments_lexer": "ipython3",
   "version": "3.9.6"
  },
  "interpreter": {
   "hash": "4eba22650f3e0b6e8c80043e28ba98eb0ba59ef4ef6ee88e97692e7d6ca59f14"
  }
 },
 "nbformat": 4,
 "nbformat_minor": 2
}